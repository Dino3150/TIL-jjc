{
 "cells": [
  {
   "cell_type": "markdown",
   "id": "626c1c1d",
   "metadata": {},
   "source": [
    "# 1. List의 합 구하기"
   ]
  },
  {
   "cell_type": "code",
   "execution_count": 41,
   "id": "6bf756ac",
   "metadata": {},
   "outputs": [
    {
     "data": {
      "text/plain": [
       "15"
      ]
     },
     "execution_count": 41,
     "metadata": {},
     "output_type": "execute_result"
    }
   ],
   "source": [
    "def list_sum(list_param):\n",
    "    sumV = 0\n",
    "    for num in list_param:\n",
    "        sumV = sumV + num\n",
    "        \n",
    "    return sumV\n",
    "\n",
    "list_sum([1, 2, 3, 4, 5])"
   ]
  },
  {
   "cell_type": "markdown",
   "id": "350cb773",
   "metadata": {},
   "source": [
    "# 2. Dictionary로 이루어진 List의 합 구하기"
   ]
  },
  {
   "cell_type": "code",
   "execution_count": 64,
   "id": "fd9a66b4",
   "metadata": {},
   "outputs": [
    {
     "data": {
      "text/plain": [
       "16"
      ]
     },
     "execution_count": 64,
     "metadata": {},
     "output_type": "execute_result"
    }
   ],
   "source": [
    "def dict_list_sum(list_param):\n",
    "    sumV = 0\n",
    "    for s in list_param:\n",
    "        sumV = sumV + s['age']\n",
    "    return sumV\n",
    "\n",
    "\n",
    "dict_list_sum([{'name' : 'kim', 'age' : 12}, {'name' : 'lee', 'age' : 4}])     \n",
    "    "
   ]
  },
  {
   "cell_type": "markdown",
   "id": "c4a1323d",
   "metadata": {},
   "source": [
    "# 3. 2차원 List의 전체 합 구하기"
   ]
  },
  {
   "cell_type": "code",
   "execution_count": 71,
   "id": "f2f5cb80",
   "metadata": {},
   "outputs": [
    {
     "data": {
      "text/plain": [
       "55"
      ]
     },
     "execution_count": 71,
     "metadata": {},
     "output_type": "execute_result"
    }
   ],
   "source": [
    "def all_list_sum(list_param):\n",
    "    b = 0\n",
    "    for s in list_param:\n",
    "        for num in s:\n",
    "            b = b + num\n",
    "    return b\n",
    "\n",
    "all_list_sum([[1], [2, 3], [4, 5, 6], [7, 8, 9, 10]])"
   ]
  }
 ],
 "metadata": {
  "kernelspec": {
   "display_name": "Python 3 (ipykernel)",
   "language": "python",
   "name": "python3"
  },
  "language_info": {
   "codemirror_mode": {
    "name": "ipython",
    "version": 3
   },
   "file_extension": ".py",
   "mimetype": "text/x-python",
   "name": "python",
   "nbconvert_exporter": "python",
   "pygments_lexer": "ipython3",
   "version": "3.9.6"
  }
 },
 "nbformat": 4,
 "nbformat_minor": 5
}
